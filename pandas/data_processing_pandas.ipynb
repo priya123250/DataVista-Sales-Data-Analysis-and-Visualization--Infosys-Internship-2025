{
  "nbformat": 4,
  "nbformat_minor": 0,
  "metadata": {
    "colab": {
      "provenance": [],
      "authorship_tag": "ABX9TyOVnuLUuBBSDIzNZXc/Mi93",
      "include_colab_link": true
    },
    "kernelspec": {
      "name": "python3",
      "display_name": "Python 3"
    },
    "language_info": {
      "name": "python"
    }
  },
  "cells": [
    {
      "cell_type": "markdown",
      "metadata": {
        "id": "view-in-github",
        "colab_type": "text"
      },
      "source": [
        "<a href=\"https://colab.research.google.com/github/Vineeshavilla/vineesha_DataVista-Sales-Data-Analysis-and-Visualization_Infosys_Internship_Oct2024/blob/main/data_processing_pandas.ipynb\" target=\"_parent\"><img src=\"https://colab.research.google.com/assets/colab-badge.svg\" alt=\"Open In Colab\"/></a>"
      ]
    },
    {
      "cell_type": "code",
      "execution_count": null,
      "metadata": {
        "id": "zhUKg1f355yw"
      },
      "outputs": [],
      "source": [
        "import pandas as pd\n",
        "df = pd.read_csv(\"/content/weight-height.csv\")"
      ]
    },
    {
      "cell_type": "code",
      "source": [
        "import pandas as pd\n",
        "\n",
        "# Load the CSV file\n",
        "df = pd.read_csv(\"/content/weight-height.csv\")\n",
        "\n",
        "# Extract the headings (column names)\n",
        "headings = df.columns.tolist()\n",
        "\n",
        "# Print the headings\n",
        "print(\"Headings:\", headings)"
      ],
      "metadata": {
        "colab": {
          "base_uri": "https://localhost:8080/"
        },
        "id": "bLmNGgMf6jhO",
        "outputId": "12fa9ec6-50f7-484d-d4d8-3fb417378afd"
      },
      "execution_count": null,
      "outputs": [
        {
          "output_type": "stream",
          "name": "stdout",
          "text": [
            "Headings: ['Gender', 'Height', 'Weight']\n"
          ]
        }
      ]
    },
    {
      "cell_type": "code",
      "source": [
        "import pandas as pd\n",
        "\n",
        "# Sample DataFrame\n",
        "df = pd.DataFrame({\n",
        "    'OldName1': [1, 2, 3],\n",
        "    'OldName2': [4, 5, 6],\n",
        "    'OldName3': [7, 8, 9]\n",
        "})\n",
        "\n",
        "# Print original DataFrame\n",
        "print(\"Original DataFrame:\")\n",
        "print(df)\n",
        "\n",
        "# Rename all columns\n",
        "df.columns = ['NewName1', 'NewName2', 'NewName3']\n",
        "\n",
        "# Print updated DataFrame\n",
        "print(\"\\nDataFrame after renaming all columns:\")\n",
        "print(df)"
      ],
      "metadata": {
        "id": "-JSJqrEZ6qhI",
        "outputId": "8bbf751c-1969-424d-d2aa-57f899a34245",
        "colab": {
          "base_uri": "https://localhost:8080/"
        }
      },
      "execution_count": null,
      "outputs": [
        {
          "output_type": "stream",
          "name": "stdout",
          "text": [
            "Original DataFrame:\n",
            "   OldName1  OldName2  OldName3\n",
            "0         1         4         7\n",
            "1         2         5         8\n",
            "2         3         6         9\n",
            "\n",
            "DataFrame after renaming all columns:\n",
            "   NewName1  NewName2  NewName3\n",
            "0         1         4         7\n",
            "1         2         5         8\n",
            "2         3         6         9\n"
          ]
        }
      ]
    },
    {
      "cell_type": "code",
      "source": [
        "import pandas as pd\n",
        "import numpy as np\n",
        "from scipy import stats\n",
        "\n",
        "# Load data from a CSV file\n",
        "df = pd.read_csv(\"/content/weight-height.csv\")\n",
        "\n",
        "# Inspect the data\n",
        "print(\"Original DataFrame:\")\n",
        "print(df.head())\n",
        "print(\"\\nDataFrame Info:\")\n",
        "print(df.info())\n",
        "print(\"\\nStatistical Summary:\")\n",
        "print(df.describe())\n",
        "\n",
        "# Handling Missing Values\n",
        "print(\"\\nMissing Values in Each Column:\")\n",
        "print(df.isnull().sum())\n",
        "\n",
        "# Fill missing values with a specific value (e.g., 0)\n",
        "df.fillna(value=0, inplace=True)\n",
        "\n",
        "# Removing Duplicates\n",
        "print(\"\\nNumber of Duplicate Rows:\", df.duplicated().sum())\n",
        "df_cleaned = df.drop_duplicates()\n",
        "\n",
        "try:\n",
        "    df_cleaned = df_cleaned[(np.abs(stats.zscore(df_cleaned['numeric_column'])) < 3)]\n",
        "except KeyError:\n",
        "    print(\"Column 'numeric_column' not found in DataFrame; skipping outlier removal.\")\n",
        "\n",
        "# Final Check\n",
        "print(\"\\nCleaned DataFrame Info:\")\n",
        "print(df_cleaned.info())\n",
        "print(\"\\nCleaned DataFrame:\")\n",
        "print(df_cleaned.head())\n",
        "\n",
        "# Export the cleaned DataFrame to a new CSV file\n",
        "df_cleaned.to_csv('cleaned_data.csv', index=False)\n"
      ],
      "metadata": {
        "id": "3t31UFE-6sb2"
      },
      "execution_count": null,
      "outputs": []
    },
    {
      "cell_type": "code",
      "source": [],
      "metadata": {
        "id": "nCnAHK-g6uwO"
      },
      "execution_count": null,
      "outputs": []
    }
  ]
}